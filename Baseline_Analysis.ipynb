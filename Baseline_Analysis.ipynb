{
 "cells": [
  {
   "cell_type": "code",
   "execution_count": 20,
   "metadata": {
    "collapsed": true
   },
   "outputs": [],
   "source": [
    "import numpy as np\n",
    "from config import config\n",
    "from utils import load_data, flip, convert\n",
    "from sklearn.model_selection import train_test_split\n",
    "from structure_learn import split_data\n",
    "from scipy.stats import randint as sp_randint\n",
    "\n",
    "import sklearn, pickle\n",
    "from sklearn.model_selection import RandomizedSearchCV\n",
    "from sklearn.ensemble import RandomForestClassifier\n",
    "from sklearn import svm\n",
    "from time import time"
   ]
  },
  {
   "cell_type": "code",
   "execution_count": 21,
   "metadata": {},
   "outputs": [
    {
     "name": "stdout",
     "output_type": "stream",
     "text": [
      "(27, 244106)\n",
      "(27, 61027)\n"
     ]
    }
   ],
   "source": [
    "data, names, encoders = load_data()\n",
    "data = np.swapaxes(data,0,1)\n",
    "\n",
    "train, test = train_test_split(data, test_size=config['test_size'], random_state=config['ran_state'])\n",
    "\n",
    "train = np.swapaxes(train, 0, 1)\n",
    "test = np.swapaxes(test, 0, 1)\n",
    "\n",
    "print(np.shape(train))\n",
    "print(np.shape(test))"
   ]
  },
  {
   "cell_type": "code",
   "execution_count": 22,
   "metadata": {},
   "outputs": [],
   "source": [
    "#with open('generated.pkl', 'rb') as f:\n",
    "#    train = pickle.load(f)\n",
    "#    train = np.swapaxes(train, 0, 1)"
   ]
  },
  {
   "cell_type": "code",
   "execution_count": 23,
   "metadata": {
    "collapsed": true
   },
   "outputs": [],
   "source": [
    "x_train, y_train = split_data(train, 1)\n",
    "x_test, y_test = split_data(test, 1)"
   ]
  },
  {
   "cell_type": "code",
   "execution_count": 24,
   "metadata": {
    "collapsed": true
   },
   "outputs": [],
   "source": [
    "result_dict = {}"
   ]
  },
  {
   "cell_type": "code",
   "execution_count": null,
   "metadata": {},
   "outputs": [
    {
     "name": "stdout",
     "output_type": "stream",
     "text": [
      "predicting ALS Unit\n"
     ]
    }
   ],
   "source": [
    "for ind in range(len(train)):    \n",
    "    x_train, y_train = split_data(train, ind)\n",
    "    x_test, y_test = split_data(test, ind)\n",
    "\n",
    "    print('predicting', names[ind])\n",
    "\n",
    "    clf = RandomForestClassifier(n_estimators=20)\n",
    "\n",
    "    param_dist = {\"n_estimators\": [5, 30],\n",
    "                  \"max_depth\": [3, None],\n",
    "                  \"max_features\": [1, 11],\n",
    "                  \"min_samples_split\": [2, 11],\n",
    "                  \"bootstrap\": [True, False],\n",
    "                  \"criterion\": [\"gini\", \"entropy\"]}\n",
    "\n",
    "    # run randomized search\n",
    "    n_iter_search = 20\n",
    "    random_search = RandomizedSearchCV(clf, param_distributions=param_dist,\n",
    "                                       n_iter=n_iter_search, cv=5, n_jobs=-1)\n",
    "\n",
    "    start = time()\n",
    "    random_search.fit(x_train, y_train)\n",
    "\n",
    "    print(\"RandomizedSearchCV took %.2f seconds for %d candidates\"\n",
    "          \" parameter settings.\" % ((time() - start), n_iter_search))\n",
    "\n",
    "    best = random_search.best_estimator_\n",
    "    test_score = best.score(x_test, y_test)\n",
    "    \n",
    "    print(names[ind], ':', test_score)\n",
    "    \n",
    "    result_dict[names[ind]] = test_score\n",
    "    "
   ]
  },
  {
   "cell_type": "code",
   "execution_count": null,
   "metadata": {
    "collapsed": true
   },
   "outputs": [],
   "source": []
  },
  {
   "cell_type": "code",
   "execution_count": null,
   "metadata": {
    "collapsed": true
   },
   "outputs": [],
   "source": []
  }
 ],
 "metadata": {
  "kernelspec": {
   "display_name": "Python 3",
   "language": "python",
   "name": "python3"
  },
  "language_info": {
   "codemirror_mode": {
    "name": "ipython",
    "version": 3
   },
   "file_extension": ".py",
   "mimetype": "text/x-python",
   "name": "python",
   "nbconvert_exporter": "python",
   "pygments_lexer": "ipython3",
   "version": "3.6.3"
  },
  "toc": {
   "base_numbering": 1,
   "nav_menu": {},
   "number_sections": true,
   "sideBar": true,
   "skip_h1_title": false,
   "title_cell": "Table of Contents",
   "title_sidebar": "Contents",
   "toc_cell": false,
   "toc_position": {},
   "toc_section_display": true,
   "toc_window_display": false
  }
 },
 "nbformat": 4,
 "nbformat_minor": 2
}

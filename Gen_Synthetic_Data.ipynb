{
 "cells": [
  {
   "cell_type": "markdown",
   "metadata": {},
   "source": [
    "Data Privacy Final Project by Sage Hahn\n",
    "Implementation based on \"Plausible Deniability for Privacy-Preserving Data Synthesis\" (https://arxiv.org/pdf/1708.07975.pdf)\n",
    "\n",
    "Using data from the https://www.nist.gov/ctl/pscr/funding-opportunities/prizes-challenges/2018-differential-privacy-synthetic-data-challenge\n",
    "\n",
    "Project goal: to generate differential private synthetic data from an original dataset"
   ]
  },
  {
   "cell_type": "code",
   "execution_count": 1,
   "metadata": {
    "collapsed": true
   },
   "outputs": [],
   "source": [
    "from utils import load_data, flip, convert\n",
    "from sklearn.model_selection import train_test_split\n",
    "\n",
    "import numpy as np\n",
    "import pickle\n",
    "\n",
    "from config import config\n",
    "from structure_learn import learn_structure\n",
    "from param_learn import learn_cond_marginals\n",
    "from generate_data import generate_fake_data"
   ]
  },
  {
   "cell_type": "code",
   "execution_count": 2,
   "metadata": {
    "collapsed": true
   },
   "outputs": [],
   "source": [
    "data, names, encoders = load_data()\n",
    "\n",
    "#Generate unique val counts on the whole dataset, before any splits\n",
    "unique_vals = [list(np.unique(data[i])) for i in range(len(data))]\n",
    "\n",
    "data = np.swapaxes(data,0,1)\n",
    "train, test = train_test_split(data, test_size=config['test_size'], random_state=config['ran_state'])\n",
    "train = flip(train)"
   ]
  },
  {
   "cell_type": "code",
   "execution_count": 3,
   "metadata": {
    "collapsed": true
   },
   "outputs": [],
   "source": [
    "parents, order = learn_structure(train, unique_vals)"
   ]
  },
  {
   "cell_type": "code",
   "execution_count": 4,
   "metadata": {
    "collapsed": true
   },
   "outputs": [],
   "source": [
    "count_dicts = learn_cond_marginals(train, parents, unique_vals, order)"
   ]
  },
  {
   "cell_type": "code",
   "execution_count": 5,
   "metadata": {},
   "outputs": [
    {
     "name": "stdout",
     "output_type": "stream",
     "text": [
      "generating samples\n"
     ]
    },
    {
     "name": "stderr",
     "output_type": "stream",
     "text": [
      "/home/sage/Data_Privacy/DPFinal/generate_data.py:95: RuntimeWarning: invalid value encountered in true_divide\n",
      "  probs = probs / np.sum(probs)\n",
      "/home/sage/Data_Privacy/DPFinal/generate_data.py:96: RuntimeWarning: invalid value encountered in less\n",
      "  new_val = np.random.choice(unique_vals[i], p=list(probs))\n"
     ]
    },
    {
     "name": "stdout",
     "output_type": "stream",
     "text": [
      "1000\n",
      "2000\n",
      "3000\n",
      "4000\n",
      "5000\n",
      "6000\n",
      "7000\n",
      "8000\n",
      "9000\n",
      "10000\n"
     ]
    }
   ],
   "source": [
    "to_release = generate_fake_data(train, order, parents, count_dicts, unique_vals)"
   ]
  },
  {
   "cell_type": "code",
   "execution_count": 6,
   "metadata": {},
   "outputs": [
    {
     "data": {
      "text/plain": [
       "10000"
      ]
     },
     "execution_count": 6,
     "metadata": {},
     "output_type": "execute_result"
    }
   ],
   "source": [
    "len(to_release)"
   ]
  },
  {
   "cell_type": "code",
   "execution_count": 7,
   "metadata": {
    "collapsed": true
   },
   "outputs": [],
   "source": [
    "with open('generated.pkl', 'wb') as f:\n",
    "    pickle.dump(to_release, f)"
   ]
  },
  {
   "cell_type": "code",
   "execution_count": null,
   "metadata": {
    "collapsed": true
   },
   "outputs": [],
   "source": []
  }
 ],
 "metadata": {
  "kernelspec": {
   "display_name": "Python 3",
   "language": "python",
   "name": "python3"
  },
  "language_info": {
   "codemirror_mode": {
    "name": "ipython",
    "version": 3
   },
   "file_extension": ".py",
   "mimetype": "text/x-python",
   "name": "python",
   "nbconvert_exporter": "python",
   "pygments_lexer": "ipython3",
   "version": "3.6.3"
  },
  "toc": {
   "base_numbering": 1,
   "nav_menu": {},
   "number_sections": true,
   "sideBar": true,
   "skip_h1_title": false,
   "title_cell": "Table of Contents",
   "title_sidebar": "Contents",
   "toc_cell": false,
   "toc_position": {},
   "toc_section_display": true,
   "toc_window_display": false
  }
 },
 "nbformat": 4,
 "nbformat_minor": 2
}

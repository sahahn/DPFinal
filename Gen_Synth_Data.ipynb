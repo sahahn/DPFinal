{
 "cells": [
  {
   "cell_type": "markdown",
   "metadata": {},
   "source": [
    "Data Privacy Final Project by Sage Hahn\n",
    "Implementation based on \"Plausible Deniability for Privacy-Preserving Data Synthesis\" (https://arxiv.org/pdf/1708.07975.pdf)\n",
    "\n",
    "Using data from the https://www.nist.gov/ctl/pscr/funding-opportunities/prizes-challenges/2018-differential-privacy-synthetic-data-challenge\n",
    "\n",
    "Project goal to namely generate a differential private synthetic version"
   ]
  },
  {
   "cell_type": "code",
   "execution_count": 1,
   "metadata": {
    "collapsed": true
   },
   "outputs": [],
   "source": [
    "from utils import load_data, flip, convert\n",
    "from sklearn.model_selection import train_test_split\n",
    "import numpy as np\n",
    "\n",
    "from config import config\n",
    "from structure_learn import learn_structure\n",
    "from param_learn import learn_cond_marginals\n",
    "from generate_data import generate_data"
   ]
  },
  {
   "cell_type": "markdown",
   "metadata": {},
   "source": [
    "First load data, according to params specified in config.py. Notably this process just buckets all of the data"
   ]
  },
  {
   "cell_type": "code",
   "execution_count": 2,
   "metadata": {
    "collapsed": true
   },
   "outputs": [],
   "source": [
    "data, names, encoders = load_data()\n",
    "\n",
    "#Generate unique val counts on the whole dataset, before splits\n",
    "unique_vals = [list(np.unique(data[i])) for i in range(len(data))]"
   ]
  },
  {
   "cell_type": "markdown",
   "metadata": {},
   "source": [
    "Next, split the data into data to be used to learn a structure, learn the distribution and lastly the dataset to generate new samples"
   ]
  },
  {
   "cell_type": "code",
   "execution_count": 3,
   "metadata": {},
   "outputs": [],
   "source": [
    "data = np.swapaxes(data,0,1)\n",
    "seed_data, train_data = train_test_split(data, test_size=config['seed_split'], random_state=config['ran_state'])\n",
    "struct_data, param_data = train_test_split(train_data, test_size=.5, random_state=config['ran_state'])"
   ]
  },
  {
   "cell_type": "markdown",
   "metadata": {},
   "source": [
    "Learn the DAG structure of the data with privacy preserving FCBF"
   ]
  },
  {
   "cell_type": "code",
   "execution_count": 4,
   "metadata": {
    "collapsed": true
   },
   "outputs": [],
   "source": [
    "parents, order = learn_structure(flip(struct_data), unique_vals)"
   ]
  },
  {
   "cell_type": "markdown",
   "metadata": {},
   "source": [
    "Currently, learning noisy conditional marginals as the underlying distribution of the data"
   ]
  },
  {
   "cell_type": "code",
   "execution_count": 5,
   "metadata": {
    "collapsed": true
   },
   "outputs": [],
   "source": [
    "count_dicts = learn_cond_marginals(flip(param_data), parents, unique_vals)"
   ]
  },
  {
   "cell_type": "markdown",
   "metadata": {},
   "source": [
    "Generate raw samples based on the learned structure and conditional probs. satifying the privacy constraints as specified in config"
   ]
  },
  {
   "cell_type": "code",
   "execution_count": 6,
   "metadata": {
    "collapsed": true
   },
   "outputs": [],
   "source": [
    "to_release = generate_data(flip(seed_data), order, parents, count_dicts, unique_vals)"
   ]
  },
  {
   "cell_type": "markdown",
   "metadata": {},
   "source": [
    "Lastly, un-bucketize (not a word), the data back into its original form"
   ]
  },
  {
   "cell_type": "code",
   "execution_count": 7,
   "metadata": {
    "collapsed": true
   },
   "outputs": [],
   "source": [
    "fake_data = convert(to_release, names, encoders)"
   ]
  },
  {
   "cell_type": "code",
   "execution_count": 8,
   "metadata": {},
   "outputs": [
    {
     "data": {
      "text/plain": [
       "[[1,\n",
       "  1,\n",
       "  0,\n",
       "  1,\n",
       "  1,\n",
       "  0.0,\n",
       "  2,\n",
       "  6.0,\n",
       "  7.0,\n",
       "  1.0,\n",
       "  4,\n",
       "  11,\n",
       "  1,\n",
       "  11,\n",
       "  7,\n",
       "  1476412240,\n",
       "  1478507235,\n",
       "  1452373658,\n",
       "  1476875376,\n",
       "  -122.41993872854846,\n",
       "  1,\n",
       "  3,\n",
       "  37.74522872513122,\n",
       "  1476716318,\n",
       "  35,\n",
       "  381,\n",
       "  520]]"
      ]
     },
     "execution_count": 8,
     "metadata": {},
     "output_type": "execute_result"
    }
   ],
   "source": [
    "fake_data"
   ]
  },
  {
   "cell_type": "code",
   "execution_count": null,
   "metadata": {
    "collapsed": true
   },
   "outputs": [],
   "source": []
  }
 ],
 "metadata": {
  "kernelspec": {
   "display_name": "Python 3",
   "language": "python",
   "name": "python3"
  },
  "language_info": {
   "codemirror_mode": {
    "name": "ipython",
    "version": 3
   },
   "file_extension": ".py",
   "mimetype": "text/x-python",
   "name": "python",
   "nbconvert_exporter": "python",
   "pygments_lexer": "ipython3",
   "version": "3.6.3"
  },
  "toc": {
   "base_numbering": 1,
   "nav_menu": {},
   "number_sections": true,
   "sideBar": true,
   "skip_h1_title": false,
   "title_cell": "Table of Contents",
   "title_sidebar": "Contents",
   "toc_cell": false,
   "toc_position": {},
   "toc_section_display": true,
   "toc_window_display": false
  }
 },
 "nbformat": 4,
 "nbformat_minor": 2
}

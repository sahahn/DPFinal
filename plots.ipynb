{
 "cells": [
  {
   "cell_type": "markdown",
   "metadata": {},
   "source": [
    "Code to make plots from basically copy and paste, since I saved python dictionaries with numpy for some reason, and then they become un-usable. Regardless, here is the notebook where I make the plots.\n",
    "\n",
    "Sage Hahn~"
   ]
  },
  {
   "cell_type": "code",
   "execution_count": 44,
   "metadata": {
    "collapsed": true
   },
   "outputs": [],
   "source": [
    "import numpy as np\n",
    "import matplotlib.pyplot as plt"
   ]
  },
  {
   "cell_type": "code",
   "execution_count": 31,
   "metadata": {},
   "outputs": [],
   "source": [
    "ground_truth = {'ALS Unit': 0.9516607403280515, 'Final Priority': 1.0, 'Call Type Group': 0.892129713077818, 'Original Priority': 0.9733560555164108, 'Priority': 0.9853179740115031, 'City': 0.9990496009962804, 'Unit Type': 0.9251314991724974, 'Fire Prevention District': 0.9840398512133973, 'Battalion': 0.9819096465498878, 'Supervisor District': 0.9887754600422763, 'Call Final Disposition': 0.7901912268340243, 'Zipcode of Incident': 0.9812050403919577, 'Call Type': 0.9022727645140676, 'Neighborhooods - Analysis Boundaries': 0.9837285136087306, 'Station Area': 0.9720123879594278, 'Watch Date': 0.9907909613777508, 'Received DtTm': 1.0, 'Entry DtTm': 1.0, 'Dispatch DtTm': 0.9999836138102807, 'Location - Lng': 0.9686696052566897, 'Number of Alarms': 0.9999672276205613, 'Unit sequence in call dispatch': 0.9597882904288266, 'Location - Lat': 0.980418503285431, 'Call Date': 0.9874154062955741, 'Unit ID': 0.6220197617448014, 'Box': 0.8256673275763187, 'Address': 0.7512576400609566}"
   ]
  },
  {
   "cell_type": "code",
   "execution_count": 93,
   "metadata": {},
   "outputs": [],
   "source": [
    "r1 = {'ALS Unit': 0.9243121896865322, 'Final Priority': 0.9983449948383503, 'Call Type Group': 0.7920264800825864, 'Original Priority': 0.9435659626067151, 'Priority': 0.9813361299097121, 'City': 0.9858095597030823, 'Unit Type': 0.841398069706851, 'Fire Prevention District': 0.9234437216314091, 'Battalion': 0.8652727481278778, 'Supervisor District': 0.7961394137021318, 'Call Final Disposition': 0.7036229865469382, 'Zipcode of Incident': 0.8116899077457519, 'Call Type': 0.8243892047782129, 'Neighborhooods - Analysis Boundaries': 0.692791715142478, 'Station Area': 0.5651105248496567, 'Watch Date': 0.9858751044619595, 'Received DtTm': 0.9999836138102807, 'Entry DtTm': 1.0, 'Dispatch DtTm': 0.9999836138102807, 'Location - Lng': 0.4730529110066036, 'Number of Alarms': 0.9984105395972275, 'Unit sequence in call dispatch': 0.8553918757271372, 'Location - Lat': 0.4792960492896587, 'Call Date': 0.9814836056171858, 'Unit ID': 0.35197535517066214, 'Box': 0.25324856211185215, 'Address': 0.40221541285004997}\n",
    "r2 = {'ALS Unit': 0.92436134825569, 'Final Priority': 0.9995903452570174, 'Call Type Group': 0.7048519507758861, 'Original Priority': 0.9445327478001541, 'Priority': 0.9810247923050454, 'City': 0.9434184868992413, 'Unit Type': 0.8414308420862897, 'Fire Prevention District': 0.9240500106510233, 'Battalion': 0.905582774837367, 'Supervisor District': 0.8041194880954332, 'Call Final Disposition': 0.7416225605060055, 'Zipcode of Incident': 0.770380323463385, 'Call Type': 0.8267324299080735, 'Neighborhooods - Analysis Boundaries': 0.740033100103233, 'Station Area': 0.4942074819342258, 'Watch Date': 0.9853343602012224, 'Received DtTm': 0.9999836138102807, 'Entry DtTm': 0.9974601405935077, 'Dispatch DtTm': 0.9999344552411228, 'Location - Lng': 0.3814213380962525, 'Number of Alarms': 0.8992740917954348, 'Unit sequence in call dispatch': 0.8492470545823979, 'Location - Lat': 0.24653022432693725, 'Call Date': 0.9740606616743409, 'Unit ID': 0.3811919314401822, 'Box': 0.23437167155521327, 'Address': 0.4116374719386501}\n",
    "r3 = {'ALS Unit': 0.9240500106510233, 'Final Priority': 0.9999672276205613, 'Call Type Group': 0.8436593638881151, 'Original Priority': 0.9440903206777328, 'Priority': 0.9815655365657824, 'City': 0.9843511888180642, 'Unit Type': 0.8417749520703951, 'Fire Prevention District': 0.9206252969996886, 'Battalion': 0.9078440690186311, 'Supervisor District': 0.8332213610369181, 'Call Final Disposition': 0.7204188310092254, 'Zipcode of Incident': 0.8234060333950547, 'Call Type': 0.8286823864846707, 'Neighborhooods - Analysis Boundaries': 0.7377062611630918, 'Station Area': 0.5915906074360529, 'Watch Date': 0.9858914906516788, 'Received DtTm': 0.9911350713618562, 'Entry DtTm': 0.9759614596817802, 'Dispatch DtTm': 0.9999180690514035, 'Location - Lng': 0.4198469529880217, 'Number of Alarms': 0.9981811329411572, 'Unit sequence in call dispatch': 0.9287200747210251, 'Location - Lat': 0.4862274075409245, 'Call Date': 0.9814836056171858, 'Unit ID': 0.36941026103200225, 'Box': 0.16446818621265996, 'Address': 0.41170301669752735}\n",
    "r4 = {'ALS Unit': 0.9048781686794369, 'Final Priority': 0.9315548855424648, 'Call Type Group': 0.7613023743588904, 'Original Priority': 0.9346354892096941, 'Priority': 0.9370278729087126, 'City': 0.9665557867828993, 'Unit Type': 0.31309092696675245, 'Fire Prevention District': 0.8756943647893556, 'Battalion': 0.8929654087535025, 'Supervisor District': 0.4761990594327101, 'Call Final Disposition': 0.7395906729808118, 'Zipcode of Incident': 0.37117996952168714, 'Call Type': 0.7589099906598719, 'Neighborhooods - Analysis Boundaries': 0.6099267537319547, 'Station Area': 0.5884444590099465, 'Watch Date': 0.9828764317433267, 'Received DtTm': 0.928015468563095, 'Entry DtTm': 0.974175365002376, 'Dispatch DtTm': 0.07665459550690677, 'Location - Lng': 0.3652317826535796, 'Number of Alarms': 0.9927736903337867, 'Unit sequence in call dispatch': 0.7617284152915923, 'Location - Lat': 0.7048847231553247, 'Call Date': 0.9765349763219558, 'Unit ID': 0.13923345404493093, 'Box': 0.13117144870303307, 'Address': 0.2201156864994183}\n",
    "r5 = {'ALS Unit': 0.9053697543710161,\n",
    " 'Address': 0.40747537974994674,\n",
    " 'Battalion': 0.9135464630409491,\n",
    " 'Box': 0.16048634211086896,\n",
    " 'Call Date': 0.9814508332377472,\n",
    " 'Call Final Disposition': 0.7416225605060055,\n",
    " 'Call Type': 0.8295180821603553,\n",
    " 'Call Type Group': 0.8688613236764056,\n",
    " 'City': 0.9858095597030823,\n",
    " 'Dispatch DtTm': 0.9999836138102807,\n",
    " 'Entry DtTm': 0.9999836138102807,\n",
    " 'Final Priority': 0.9995411866878595,\n",
    " 'Fire Prevention District': 0.9247710029986728,\n",
    " 'Location - Lat': 0.5108722368787586,\n",
    " 'Location - Lng': 0.4619758467563537,\n",
    " 'Neighborhooods - Analysis Boundaries': 0.7021154570927622,\n",
    " 'Number of Alarms': 0.9984105395972275,\n",
    " 'Original Priority': 0.924033624461304,\n",
    " 'Priority': 0.98138528847887,\n",
    " 'Received DtTm': 1.0,\n",
    " 'Station Area': 0.5931472954593868,\n",
    " 'Supervisor District': 0.858128369410261,\n",
    " 'Unit ID': 0.3309518737607944,\n",
    " 'Unit Type': 0.8476084356104675,\n",
    " 'Unit sequence in call dispatch': 0.956314418208334,\n",
    " 'Watch Date': 0.9858914906516788,\n",
    " 'Zipcode of Incident': 0.8415127730348863}"
   ]
  },
  {
   "cell_type": "code",
   "execution_count": null,
   "metadata": {
    "collapsed": true
   },
   "outputs": [],
   "source": []
  },
  {
   "cell_type": "code",
   "execution_count": 43,
   "metadata": {},
   "outputs": [],
   "source": [
    "accs = []\n",
    "\n",
    "for key in ground_truth:\n",
    "    accs.append(ground_truth[key])"
   ]
  },
  {
   "cell_type": "code",
   "execution_count": 94,
   "metadata": {},
   "outputs": [],
   "source": [
    "t_mean = np.mean(list(ground_truth.values()))\n",
    "r1_mean = np.mean(list(r1.values()))\n",
    "r2_mean = np.mean(list(r2.values()))\n",
    "r3_mean = np.mean(list(r3.values()))\n",
    "r4_mean = np.mean(list(r4.values()))\n",
    "r5_mean = np.mean(list(r5.values()))"
   ]
  },
  {
   "cell_type": "code",
   "execution_count": 99,
   "metadata": {},
   "outputs": [
    {
     "data": {
      "image/png": "[encoded data removed]",
      "text/plain": [
       "<Figure size 720x576 with 1 Axes>"
      ]
     },
     "metadata": {},
     "output_type": "display_data"
    }
   ],
   "source": [
    "#plt.bar(range(0,5), [t_mean, r3_mean, r1_mean, r2_mean, r4_mean], label=['None','ω=20', 'ω=21', 'ω=21', 'ω=22'])\n",
    "\n",
    "plt.figure(figsize=(10,8))\n",
    "plt.bar(0, t_mean, label='truth')\n",
    "plt.bar(2, r3_mean, label='ω=20')\n",
    "plt.bar(3, r1_mean, label='ω=21')\n",
    "plt.bar(4, r2_mean, label='ω=21')\n",
    "plt.bar(5, r4_mean, label='ω=22')\n",
    "plt.bar(1, r5_mean, label='ω=22')\n",
    "\n",
    "plt.xticks([0,1,2,3,4,5], ('Truth','ϵ=500 (zCDP)', 'ϵ=5 (zCDP)','ϵ=2 (zCDP)','ϵ=2 (adv)','ϵ=.2 (zCDP)'))\n",
    "plt.ylim(.6,1)\n",
    "plt.legend()\n",
    "plt.title('Average RF Accuracy')\n",
    "plt.xlabel('Privacy Params')\n",
    "plt.ylabel('Avg. Accuracy')\n",
    "plt.savefig('RF_acc.jpg')\n",
    "plt.show()"
   ]
  },
  {
   "cell_type": "code",
   "execution_count": null,
   "metadata": {
    "collapsed": true
   },
   "outputs": [],
   "source": []
  }
 ],
 "metadata": {
  "kernelspec": {
   "display_name": "Python 3",
   "language": "python",
   "name": "python3"
  },
  "language_info": {
   "codemirror_mode": {
    "name": "ipython",
    "version": 3
   },
   "file_extension": ".py",
   "mimetype": "text/x-python",
   "name": "python",
   "nbconvert_exporter": "python",
   "pygments_lexer": "ipython3",
   "version": "3.6.3"
  },
  "toc": {
   "base_numbering": 1,
   "nav_menu": {},
   "number_sections": true,
   "sideBar": true,
   "skip_h1_title": false,
   "title_cell": "Table of Contents",
   "title_sidebar": "Contents",
   "toc_cell": false,
   "toc_position": {},
   "toc_section_display": true,
   "toc_window_display": false
  }
 },
 "nbformat": 4,
 "nbformat_minor": 2
}

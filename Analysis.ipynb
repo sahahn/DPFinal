{
 "cells": [
  {
   "cell_type": "markdown",
   "metadata": {},
   "source": [
    "Code to evaluate synthetic data on machine learning w/ random forests. Sage Hahn"
   ]
  },
  {
   "cell_type": "code",
   "execution_count": 1,
   "metadata": {
    "collapsed": true
   },
   "outputs": [],
   "source": [
    "import numpy as np\n",
    "from config import config\n",
    "from utils import load_data, flip, convert\n",
    "from sklearn.model_selection import train_test_split\n",
    "from structure_learn import split_data\n",
    "from scipy.stats import randint as sp_randint\n",
    "\n",
    "import sklearn, pickle\n",
    "from sklearn.model_selection import RandomizedSearchCV\n",
    "from sklearn.ensemble import RandomForestClassifier\n",
    "from sklearn import svm\n",
    "from time import time"
   ]
  },
  {
   "cell_type": "code",
   "execution_count": 2,
   "metadata": {},
   "outputs": [
    {
     "name": "stdout",
     "output_type": "stream",
     "text": [
      "(27, 244106)\n",
      "(27, 61027)\n"
     ]
    }
   ],
   "source": [
    "data, names, encoders = load_data()\n",
    "data = np.swapaxes(data,0,1)\n",
    "\n",
    "train, test = train_test_split(data, test_size=config['test_size'], random_state=config['ran_state'])\n",
    "\n",
    "train = np.swapaxes(train, 0, 1)\n",
    "test = np.swapaxes(test, 0, 1)\n",
    "\n",
    "print(np.shape(train))\n",
    "print(np.shape(test))"
   ]
  },
  {
   "cell_type": "code",
   "execution_count": 3,
   "metadata": {
    "collapsed": true
   },
   "outputs": [],
   "source": [
    "with open('generated.pkl', 'rb') as f:\n",
    "    train = pickle.load(f)\n",
    "    train = np.swapaxes(train, 0, 1)"
   ]
  },
  {
   "cell_type": "code",
   "execution_count": 4,
   "metadata": {
    "collapsed": true
   },
   "outputs": [],
   "source": [
    "result_dict = {}"
   ]
  },
  {
   "cell_type": "code",
   "execution_count": 5,
   "metadata": {},
   "outputs": [
    {
     "name": "stdout",
     "output_type": "stream",
     "text": [
      "predicting ALS Unit\n",
      "RandomizedSearchCV took 23.40 seconds for 30 candidates parameter settings.\n",
      "ALS Unit : 0.9053697543710161\n",
      "predicting Final Priority\n",
      "RandomizedSearchCV took 9.24 seconds for 30 candidates parameter settings.\n",
      "Final Priority : 0.9995411866878595\n",
      "predicting Call Type Group\n"
     ]
    },
    {
     "name": "stderr",
     "output_type": "stream",
     "text": [
      "/home/sage/anaconda3/lib/python3.6/site-packages/sklearn/externals/joblib/externals/loky/process_executor.py:700: UserWarning: A worker stopped while some jobs were given to the executor. This can be caused by a too short worker timeout or by a memory leak.\n",
      "  \"timeout or by a memory leak.\", UserWarning\n"
     ]
    },
    {
     "name": "stdout",
     "output_type": "stream",
     "text": [
      "RandomizedSearchCV took 23.22 seconds for 30 candidates parameter settings.\n",
      "Call Type Group : 0.8688613236764056\n",
      "predicting Original Priority\n"
     ]
    },
    {
     "name": "stderr",
     "output_type": "stream",
     "text": [
      "/home/sage/anaconda3/lib/python3.6/site-packages/sklearn/externals/joblib/externals/loky/process_executor.py:700: UserWarning: A worker stopped while some jobs were given to the executor. This can be caused by a too short worker timeout or by a memory leak.\n",
      "  \"timeout or by a memory leak.\", UserWarning\n"
     ]
    },
    {
     "name": "stdout",
     "output_type": "stream",
     "text": [
      "RandomizedSearchCV took 24.80 seconds for 30 candidates parameter settings.\n",
      "Original Priority : 0.924033624461304\n",
      "predicting Priority\n"
     ]
    },
    {
     "name": "stderr",
     "output_type": "stream",
     "text": [
      "/home/sage/anaconda3/lib/python3.6/site-packages/sklearn/externals/joblib/externals/loky/process_executor.py:700: UserWarning: A worker stopped while some jobs were given to the executor. This can be caused by a too short worker timeout or by a memory leak.\n",
      "  \"timeout or by a memory leak.\", UserWarning\n"
     ]
    },
    {
     "name": "stdout",
     "output_type": "stream",
     "text": [
      "RandomizedSearchCV took 19.88 seconds for 30 candidates parameter settings.\n",
      "Priority : 0.98138528847887\n",
      "predicting City\n",
      "RandomizedSearchCV took 21.81 seconds for 30 candidates parameter settings.\n",
      "City : 0.9858095597030823\n",
      "predicting Unit Type\n"
     ]
    },
    {
     "name": "stderr",
     "output_type": "stream",
     "text": [
      "/home/sage/anaconda3/lib/python3.6/site-packages/sklearn/externals/joblib/externals/loky/process_executor.py:700: UserWarning: A worker stopped while some jobs were given to the executor. This can be caused by a too short worker timeout or by a memory leak.\n",
      "  \"timeout or by a memory leak.\", UserWarning\n"
     ]
    },
    {
     "name": "stdout",
     "output_type": "stream",
     "text": [
      "RandomizedSearchCV took 22.51 seconds for 30 candidates parameter settings.\n",
      "Unit Type : 0.8476084356104675\n",
      "predicting Fire Prevention District\n"
     ]
    },
    {
     "name": "stderr",
     "output_type": "stream",
     "text": [
      "/home/sage/anaconda3/lib/python3.6/site-packages/sklearn/externals/joblib/externals/loky/process_executor.py:700: UserWarning: A worker stopped while some jobs were given to the executor. This can be caused by a too short worker timeout or by a memory leak.\n",
      "  \"timeout or by a memory leak.\", UserWarning\n"
     ]
    },
    {
     "name": "stdout",
     "output_type": "stream",
     "text": [
      "RandomizedSearchCV took 24.75 seconds for 30 candidates parameter settings.\n",
      "Fire Prevention District : 0.9247710029986728\n",
      "predicting Battalion\n"
     ]
    },
    {
     "name": "stderr",
     "output_type": "stream",
     "text": [
      "/home/sage/anaconda3/lib/python3.6/site-packages/sklearn/externals/joblib/externals/loky/process_executor.py:700: UserWarning: A worker stopped while some jobs were given to the executor. This can be caused by a too short worker timeout or by a memory leak.\n",
      "  \"timeout or by a memory leak.\", UserWarning\n"
     ]
    },
    {
     "name": "stdout",
     "output_type": "stream",
     "text": [
      "RandomizedSearchCV took 25.54 seconds for 30 candidates parameter settings.\n",
      "Battalion : 0.9135464630409491\n",
      "predicting Supervisor District\n"
     ]
    },
    {
     "name": "stderr",
     "output_type": "stream",
     "text": [
      "/home/sage/anaconda3/lib/python3.6/site-packages/sklearn/externals/joblib/externals/loky/process_executor.py:700: UserWarning: A worker stopped while some jobs were given to the executor. This can be caused by a too short worker timeout or by a memory leak.\n",
      "  \"timeout or by a memory leak.\", UserWarning\n"
     ]
    },
    {
     "name": "stdout",
     "output_type": "stream",
     "text": [
      "RandomizedSearchCV took 24.22 seconds for 30 candidates parameter settings.\n",
      "Supervisor District : 0.858128369410261\n",
      "predicting Call Final Disposition\n"
     ]
    },
    {
     "name": "stderr",
     "output_type": "stream",
     "text": [
      "/home/sage/anaconda3/lib/python3.6/site-packages/sklearn/externals/joblib/externals/loky/process_executor.py:700: UserWarning: A worker stopped while some jobs were given to the executor. This can be caused by a too short worker timeout or by a memory leak.\n",
      "  \"timeout or by a memory leak.\", UserWarning\n"
     ]
    },
    {
     "name": "stdout",
     "output_type": "stream",
     "text": [
      "RandomizedSearchCV took 39.05 seconds for 30 candidates parameter settings.\n",
      "Call Final Disposition : 0.7416225605060055\n",
      "predicting Zipcode of Incident\n"
     ]
    },
    {
     "name": "stderr",
     "output_type": "stream",
     "text": [
      "/home/sage/anaconda3/lib/python3.6/site-packages/sklearn/externals/joblib/externals/loky/process_executor.py:700: UserWarning: A worker stopped while some jobs were given to the executor. This can be caused by a too short worker timeout or by a memory leak.\n",
      "  \"timeout or by a memory leak.\", UserWarning\n"
     ]
    },
    {
     "name": "stdout",
     "output_type": "stream",
     "text": [
      "RandomizedSearchCV took 27.44 seconds for 30 candidates parameter settings.\n",
      "Zipcode of Incident : 0.8415127730348863\n",
      "predicting Call Type\n"
     ]
    },
    {
     "name": "stderr",
     "output_type": "stream",
     "text": [
      "/home/sage/anaconda3/lib/python3.6/site-packages/sklearn/externals/joblib/externals/loky/process_executor.py:700: UserWarning: A worker stopped while some jobs were given to the executor. This can be caused by a too short worker timeout or by a memory leak.\n",
      "  \"timeout or by a memory leak.\", UserWarning\n"
     ]
    },
    {
     "name": "stdout",
     "output_type": "stream",
     "text": [
      "RandomizedSearchCV took 26.25 seconds for 30 candidates parameter settings.\n",
      "Call Type : 0.8295180821603553\n",
      "predicting Neighborhooods - Analysis Boundaries\n"
     ]
    },
    {
     "name": "stderr",
     "output_type": "stream",
     "text": [
      "/home/sage/anaconda3/lib/python3.6/site-packages/sklearn/externals/joblib/externals/loky/process_executor.py:700: UserWarning: A worker stopped while some jobs were given to the executor. This can be caused by a too short worker timeout or by a memory leak.\n",
      "  \"timeout or by a memory leak.\", UserWarning\n"
     ]
    },
    {
     "name": "stdout",
     "output_type": "stream",
     "text": [
      "RandomizedSearchCV took 28.00 seconds for 30 candidates parameter settings.\n",
      "Neighborhooods - Analysis Boundaries : 0.7021154570927622\n",
      "predicting Station Area\n"
     ]
    },
    {
     "name": "stderr",
     "output_type": "stream",
     "text": [
      "/home/sage/anaconda3/lib/python3.6/site-packages/sklearn/externals/joblib/externals/loky/process_executor.py:700: UserWarning: A worker stopped while some jobs were given to the executor. This can be caused by a too short worker timeout or by a memory leak.\n",
      "  \"timeout or by a memory leak.\", UserWarning\n"
     ]
    },
    {
     "name": "stdout",
     "output_type": "stream",
     "text": [
      "RandomizedSearchCV took 30.45 seconds for 30 candidates parameter settings.\n",
      "Station Area : 0.5931472954593868\n",
      "predicting Watch Date\n"
     ]
    },
    {
     "name": "stderr",
     "output_type": "stream",
     "text": [
      "/home/sage/anaconda3/lib/python3.6/site-packages/sklearn/externals/joblib/externals/loky/process_executor.py:700: UserWarning: A worker stopped while some jobs were given to the executor. This can be caused by a too short worker timeout or by a memory leak.\n",
      "  \"timeout or by a memory leak.\", UserWarning\n"
     ]
    },
    {
     "name": "stdout",
     "output_type": "stream",
     "text": [
      "RandomizedSearchCV took 22.66 seconds for 30 candidates parameter settings.\n",
      "Watch Date : 0.9858914906516788\n",
      "predicting Received DtTm\n"
     ]
    },
    {
     "name": "stderr",
     "output_type": "stream",
     "text": [
      "/home/sage/anaconda3/lib/python3.6/site-packages/sklearn/externals/joblib/externals/loky/process_executor.py:700: UserWarning: A worker stopped while some jobs were given to the executor. This can be caused by a too short worker timeout or by a memory leak.\n",
      "  \"timeout or by a memory leak.\", UserWarning\n"
     ]
    },
    {
     "name": "stdout",
     "output_type": "stream",
     "text": [
      "RandomizedSearchCV took 16.05 seconds for 30 candidates parameter settings.\n",
      "Received DtTm : 1.0\n",
      "predicting Entry DtTm\n"
     ]
    },
    {
     "name": "stderr",
     "output_type": "stream",
     "text": [
      "/home/sage/anaconda3/lib/python3.6/site-packages/sklearn/externals/joblib/externals/loky/process_executor.py:700: UserWarning: A worker stopped while some jobs were given to the executor. This can be caused by a too short worker timeout or by a memory leak.\n",
      "  \"timeout or by a memory leak.\", UserWarning\n"
     ]
    },
    {
     "name": "stdout",
     "output_type": "stream",
     "text": [
      "RandomizedSearchCV took 15.92 seconds for 30 candidates parameter settings.\n",
      "Entry DtTm : 0.9999836138102807\n",
      "predicting Dispatch DtTm\n",
      "RandomizedSearchCV took 18.19 seconds for 30 candidates parameter settings.\n",
      "Dispatch DtTm : 0.9999836138102807\n",
      "predicting Location - Lng\n"
     ]
    },
    {
     "name": "stderr",
     "output_type": "stream",
     "text": [
      "/home/sage/anaconda3/lib/python3.6/site-packages/sklearn/externals/joblib/externals/loky/process_executor.py:700: UserWarning: A worker stopped while some jobs were given to the executor. This can be caused by a too short worker timeout or by a memory leak.\n",
      "  \"timeout or by a memory leak.\", UserWarning\n"
     ]
    },
    {
     "name": "stdout",
     "output_type": "stream",
     "text": [
      "RandomizedSearchCV took 31.82 seconds for 30 candidates parameter settings.\n",
      "Location - Lng : 0.4619758467563537\n",
      "predicting Number of Alarms\n"
     ]
    },
    {
     "name": "stderr",
     "output_type": "stream",
     "text": [
      "/home/sage/anaconda3/lib/python3.6/site-packages/sklearn/externals/joblib/externals/loky/process_executor.py:700: UserWarning: A worker stopped while some jobs were given to the executor. This can be caused by a too short worker timeout or by a memory leak.\n",
      "  \"timeout or by a memory leak.\", UserWarning\n"
     ]
    },
    {
     "name": "stdout",
     "output_type": "stream",
     "text": [
      "RandomizedSearchCV took 13.79 seconds for 30 candidates parameter settings.\n",
      "Number of Alarms : 0.9984105395972275\n",
      "predicting Unit sequence in call dispatch\n"
     ]
    },
    {
     "name": "stderr",
     "output_type": "stream",
     "text": [
      "/home/sage/anaconda3/lib/python3.6/site-packages/sklearn/model_selection/_split.py:626: Warning: The least populated class in y has only 1 members, which is too few. The minimum number of members in any class cannot be less than n_splits=3.\n",
      "  % (min_groups, self.n_splits)), Warning)\n"
     ]
    },
    {
     "name": "stdout",
     "output_type": "stream",
     "text": [
      "RandomizedSearchCV took 17.51 seconds for 30 candidates parameter settings.\n",
      "Unit sequence in call dispatch : 0.956314418208334\n",
      "predicting Location - Lat\n"
     ]
    },
    {
     "name": "stderr",
     "output_type": "stream",
     "text": [
      "/home/sage/anaconda3/lib/python3.6/site-packages/sklearn/model_selection/_split.py:626: Warning: The least populated class in y has only 2 members, which is too few. The minimum number of members in any class cannot be less than n_splits=3.\n",
      "  % (min_groups, self.n_splits)), Warning)\n"
     ]
    },
    {
     "name": "stdout",
     "output_type": "stream",
     "text": [
      "RandomizedSearchCV took 23.39 seconds for 30 candidates parameter settings.\n",
      "Location - Lat : 0.5108722368787586\n",
      "predicting Call Date\n"
     ]
    },
    {
     "name": "stderr",
     "output_type": "stream",
     "text": [
      "/home/sage/anaconda3/lib/python3.6/site-packages/sklearn/externals/joblib/externals/loky/process_executor.py:700: UserWarning: A worker stopped while some jobs were given to the executor. This can be caused by a too short worker timeout or by a memory leak.\n",
      "  \"timeout or by a memory leak.\", UserWarning\n"
     ]
    },
    {
     "name": "stdout",
     "output_type": "stream",
     "text": [
      "RandomizedSearchCV took 19.56 seconds for 30 candidates parameter settings.\n",
      "Call Date : 0.9814508332377472\n",
      "predicting Unit ID\n"
     ]
    },
    {
     "name": "stderr",
     "output_type": "stream",
     "text": [
      "/home/sage/anaconda3/lib/python3.6/site-packages/sklearn/externals/joblib/externals/loky/process_executor.py:700: UserWarning: A worker stopped while some jobs were given to the executor. This can be caused by a too short worker timeout or by a memory leak.\n",
      "  \"timeout or by a memory leak.\", UserWarning\n"
     ]
    },
    {
     "name": "stdout",
     "output_type": "stream",
     "text": [
      "RandomizedSearchCV took 34.37 seconds for 30 candidates parameter settings.\n",
      "Unit ID : 0.3309518737607944\n",
      "predicting Box\n"
     ]
    },
    {
     "name": "stderr",
     "output_type": "stream",
     "text": [
      "/home/sage/anaconda3/lib/python3.6/site-packages/sklearn/externals/joblib/externals/loky/process_executor.py:700: UserWarning: A worker stopped while some jobs were given to the executor. This can be caused by a too short worker timeout or by a memory leak.\n",
      "  \"timeout or by a memory leak.\", UserWarning\n"
     ]
    },
    {
     "name": "stdout",
     "output_type": "stream",
     "text": [
      "RandomizedSearchCV took 40.76 seconds for 30 candidates parameter settings.\n",
      "Box : 0.16048634211086896\n",
      "predicting Address\n"
     ]
    },
    {
     "name": "stderr",
     "output_type": "stream",
     "text": [
      "/home/sage/anaconda3/lib/python3.6/site-packages/sklearn/externals/joblib/externals/loky/process_executor.py:700: UserWarning: A worker stopped while some jobs were given to the executor. This can be caused by a too short worker timeout or by a memory leak.\n",
      "  \"timeout or by a memory leak.\", UserWarning\n"
     ]
    },
    {
     "name": "stdout",
     "output_type": "stream",
     "text": [
      "RandomizedSearchCV took 36.15 seconds for 30 candidates parameter settings.\n",
      "Address : 0.40747537974994674\n"
     ]
    }
   ],
   "source": [
    "clf1 = RandomForestClassifier(n_estimators=50)\n",
    "\n",
    "param_dist = {\"n_estimators\": [5, 30],\n",
    "              \"max_depth\": [3, None],\n",
    "              \"max_features\": [1, 11],\n",
    "              \"min_samples_split\": [2, 11],\n",
    "              \"bootstrap\": [True, False],\n",
    "              \"criterion\": [\"gini\", \"entropy\"]}\n",
    "\n",
    "# run randomized search\n",
    "n_iter_search = 30\n",
    "random_search = RandomizedSearchCV(clf1, param_distributions=param_dist,\n",
    "                                   n_iter=n_iter_search, cv=3, n_jobs=-1)\n",
    "    \n",
    "\n",
    "for ind in range(len(train)):    \n",
    "    x_train, y_train = split_data(train, ind)\n",
    "    x_test, y_test = split_data(test, ind)\n",
    "\n",
    "    print('predicting', names[ind])\n",
    "\n",
    "    start = time()\n",
    "    random_search.fit(x_train, y_train)\n",
    "\n",
    "    print(\"RandomizedSearchCV took %.2f seconds for %d candidates\"\n",
    "          \" parameter settings.\" % ((time() - start), n_iter_search))\n",
    "    \n",
    "    best = random_search.best_estimator_\n",
    "    test_score1 = best.score(x_test, y_test)\n",
    "    \n",
    "    print(names[ind], ':', test_score1)\n",
    "\n",
    "    \n",
    "    result_dict[names[ind]] = test_score1\n",
    "    "
   ]
  },
  {
   "cell_type": "markdown",
   "metadata": {},
   "source": [
    "I will admit that I saved and processed the results from these runs in a terrible way"
   ]
  },
  {
   "cell_type": "code",
   "execution_count": 6,
   "metadata": {},
   "outputs": [
    {
     "data": {
      "text/plain": [
       "{'ALS Unit': 0.9053697543710161,\n",
       " 'Address': 0.40747537974994674,\n",
       " 'Battalion': 0.9135464630409491,\n",
       " 'Box': 0.16048634211086896,\n",
       " 'Call Date': 0.9814508332377472,\n",
       " 'Call Final Disposition': 0.7416225605060055,\n",
       " 'Call Type': 0.8295180821603553,\n",
       " 'Call Type Group': 0.8688613236764056,\n",
       " 'City': 0.9858095597030823,\n",
       " 'Dispatch DtTm': 0.9999836138102807,\n",
       " 'Entry DtTm': 0.9999836138102807,\n",
       " 'Final Priority': 0.9995411866878595,\n",
       " 'Fire Prevention District': 0.9247710029986728,\n",
       " 'Location - Lat': 0.5108722368787586,\n",
       " 'Location - Lng': 0.4619758467563537,\n",
       " 'Neighborhooods - Analysis Boundaries': 0.7021154570927622,\n",
       " 'Number of Alarms': 0.9984105395972275,\n",
       " 'Original Priority': 0.924033624461304,\n",
       " 'Priority': 0.98138528847887,\n",
       " 'Received DtTm': 1.0,\n",
       " 'Station Area': 0.5931472954593868,\n",
       " 'Supervisor District': 0.858128369410261,\n",
       " 'Unit ID': 0.3309518737607944,\n",
       " 'Unit Type': 0.8476084356104675,\n",
       " 'Unit sequence in call dispatch': 0.956314418208334,\n",
       " 'Watch Date': 0.9858914906516788,\n",
       " 'Zipcode of Incident': 0.8415127730348863}"
      ]
     },
     "execution_count": 6,
     "metadata": {},
     "output_type": "execute_result"
    }
   ],
   "source": [
    "np.save('r5', result_dict)\n",
    "result_dict"
   ]
  },
  {
   "cell_type": "code",
   "execution_count": null,
   "metadata": {
    "collapsed": true
   },
   "outputs": [],
   "source": []
  },
  {
   "cell_type": "code",
   "execution_count": null,
   "metadata": {
    "collapsed": true
   },
   "outputs": [],
   "source": []
  },
  {
   "cell_type": "code",
   "execution_count": 7,
   "metadata": {},
   "outputs": [
    {
     "data": {
      "text/plain": [
       "{'ALS Unit': 0.9240500106510233,\n",
       " 'Address': 0.41170301669752735,\n",
       " 'Battalion': 0.9078440690186311,\n",
       " 'Box': 0.16446818621265996,\n",
       " 'Call Date': 0.9814836056171858,\n",
       " 'Call Final Disposition': 0.7204188310092254,\n",
       " 'Call Type': 0.8286823864846707,\n",
       " 'Call Type Group': 0.8436593638881151,\n",
       " 'City': 0.9843511888180642,\n",
       " 'Dispatch DtTm': 0.9999180690514035,\n",
       " 'Entry DtTm': 0.9759614596817802,\n",
       " 'Final Priority': 0.9999672276205613,\n",
       " 'Fire Prevention District': 0.9206252969996886,\n",
       " 'Location - Lat': 0.4862274075409245,\n",
       " 'Location - Lng': 0.4198469529880217,\n",
       " 'Neighborhooods - Analysis Boundaries': 0.7377062611630918,\n",
       " 'Number of Alarms': 0.9981811329411572,\n",
       " 'Original Priority': 0.9440903206777328,\n",
       " 'Priority': 0.9815655365657824,\n",
       " 'Received DtTm': 0.9911350713618562,\n",
       " 'Station Area': 0.5915906074360529,\n",
       " 'Supervisor District': 0.8332213610369181,\n",
       " 'Unit ID': 0.36941026103200225,\n",
       " 'Unit Type': 0.8417749520703951,\n",
       " 'Unit sequence in call dispatch': 0.9287200747210251,\n",
       " 'Watch Date': 0.9858914906516788,\n",
       " 'Zipcode of Incident': 0.8234060333950547}"
      ]
     },
     "execution_count": 7,
     "metadata": {},
     "output_type": "execute_result"
    }
   ],
   "source": [
    "#np.save('r3', result_dict)\n",
    "result_dict"
   ]
  },
  {
   "cell_type": "code",
   "execution_count": null,
   "metadata": {
    "collapsed": true
   },
   "outputs": [],
   "source": []
  },
  {
   "cell_type": "code",
   "execution_count": null,
   "metadata": {
    "collapsed": true
   },
   "outputs": [],
   "source": []
  },
  {
   "cell_type": "code",
   "execution_count": 25,
   "metadata": {},
   "outputs": [
    {
     "data": {
      "text/plain": [
       "{'ALS Unit': 0.92436134825569,\n",
       " 'Address': 0.4116374719386501,\n",
       " 'Battalion': 0.905582774837367,\n",
       " 'Box': 0.23437167155521327,\n",
       " 'Call Date': 0.9740606616743409,\n",
       " 'Call Final Disposition': 0.7416225605060055,\n",
       " 'Call Type': 0.8267324299080735,\n",
       " 'Call Type Group': 0.7048519507758861,\n",
       " 'City': 0.9434184868992413,\n",
       " 'Dispatch DtTm': 0.9999344552411228,\n",
       " 'Entry DtTm': 0.9974601405935077,\n",
       " 'Final Priority': 0.9995903452570174,\n",
       " 'Fire Prevention District': 0.9240500106510233,\n",
       " 'Location - Lat': 0.24653022432693725,\n",
       " 'Location - Lng': 0.3814213380962525,\n",
       " 'Neighborhooods - Analysis Boundaries': 0.740033100103233,\n",
       " 'Number of Alarms': 0.8992740917954348,\n",
       " 'Original Priority': 0.9445327478001541,\n",
       " 'Priority': 0.9810247923050454,\n",
       " 'Received DtTm': 0.9999836138102807,\n",
       " 'Station Area': 0.4942074819342258,\n",
       " 'Supervisor District': 0.8041194880954332,\n",
       " 'Unit ID': 0.3811919314401822,\n",
       " 'Unit Type': 0.8414308420862897,\n",
       " 'Unit sequence in call dispatch': 0.8492470545823979,\n",
       " 'Watch Date': 0.9853343602012224,\n",
       " 'Zipcode of Incident': 0.770380323463385}"
      ]
     },
     "execution_count": 25,
     "metadata": {},
     "output_type": "execute_result"
    }
   ],
   "source": [
    "#np.save('r2', result_dict)\n",
    "result_dict"
   ]
  },
  {
   "cell_type": "code",
   "execution_count": 17,
   "metadata": {},
   "outputs": [
    {
     "data": {
      "text/plain": [
       "{'ALS Unit': 0.9243121896865322,\n",
       " 'Address': 0.40221541285004997,\n",
       " 'Battalion': 0.8652727481278778,\n",
       " 'Box': 0.25324856211185215,\n",
       " 'Call Date': 0.9814836056171858,\n",
       " 'Call Final Disposition': 0.7036229865469382,\n",
       " 'Call Type': 0.8243892047782129,\n",
       " 'Call Type Group': 0.7920264800825864,\n",
       " 'City': 0.9858095597030823,\n",
       " 'Dispatch DtTm': 0.9999836138102807,\n",
       " 'Entry DtTm': 1.0,\n",
       " 'Final Priority': 0.9983449948383503,\n",
       " 'Fire Prevention District': 0.9234437216314091,\n",
       " 'Location - Lat': 0.4792960492896587,\n",
       " 'Location - Lng': 0.4730529110066036,\n",
       " 'Neighborhooods - Analysis Boundaries': 0.692791715142478,\n",
       " 'Number of Alarms': 0.9984105395972275,\n",
       " 'Original Priority': 0.9435659626067151,\n",
       " 'Priority': 0.9813361299097121,\n",
       " 'Received DtTm': 0.9999836138102807,\n",
       " 'Station Area': 0.5651105248496567,\n",
       " 'Supervisor District': 0.7961394137021318,\n",
       " 'Unit ID': 0.35197535517066214,\n",
       " 'Unit Type': 0.841398069706851,\n",
       " 'Unit sequence in call dispatch': 0.8553918757271372,\n",
       " 'Watch Date': 0.9858751044619595,\n",
       " 'Zipcode of Incident': 0.8116899077457519}"
      ]
     },
     "execution_count": 17,
     "metadata": {},
     "output_type": "execute_result"
    }
   ],
   "source": [
    "#np.save('r1', result_dict)\n",
    "result_dict"
   ]
  },
  {
   "cell_type": "code",
   "execution_count": 11,
   "metadata": {},
   "outputs": [
    {
     "data": {
      "text/plain": [
       "{'ALS Unit': 0.9516607403280515,\n",
       " 'Address': 0.7512576400609566,\n",
       " 'Battalion': 0.9819096465498878,\n",
       " 'Box': 0.8256673275763187,\n",
       " 'Call Date': 0.9874154062955741,\n",
       " 'Call Final Disposition': 0.7901912268340243,\n",
       " 'Call Type': 0.9022727645140676,\n",
       " 'Call Type Group': 0.892129713077818,\n",
       " 'City': 0.9990496009962804,\n",
       " 'Dispatch DtTm': 0.9999836138102807,\n",
       " 'Entry DtTm': 1.0,\n",
       " 'Final Priority': 1.0,\n",
       " 'Fire Prevention District': 0.9840398512133973,\n",
       " 'Location - Lat': 0.980418503285431,\n",
       " 'Location - Lng': 0.9686696052566897,\n",
       " 'Neighborhooods - Analysis Boundaries': 0.9837285136087306,\n",
       " 'Number of Alarms': 0.9999672276205613,\n",
       " 'Original Priority': 0.9733560555164108,\n",
       " 'Priority': 0.9853179740115031,\n",
       " 'Received DtTm': 1.0,\n",
       " 'Station Area': 0.9720123879594278,\n",
       " 'Supervisor District': 0.9887754600422763,\n",
       " 'Unit ID': 0.6220197617448014,\n",
       " 'Unit Type': 0.9251314991724974,\n",
       " 'Unit sequence in call dispatch': 0.9597882904288266,\n",
       " 'Watch Date': 0.9907909613777508,\n",
       " 'Zipcode of Incident': 0.9812050403919577}"
      ]
     },
     "execution_count": 11,
     "metadata": {},
     "output_type": "execute_result"
    }
   ],
   "source": [
    "result_dict"
   ]
  },
  {
   "cell_type": "code",
   "execution_count": null,
   "metadata": {
    "collapsed": true
   },
   "outputs": [],
   "source": []
  }
 ],
 "metadata": {
  "kernelspec": {
   "display_name": "Python 3",
   "language": "python",
   "name": "python3"
  },
  "language_info": {
   "codemirror_mode": {
    "name": "ipython",
    "version": 3
   },
   "file_extension": ".py",
   "mimetype": "text/x-python",
   "name": "python",
   "nbconvert_exporter": "python",
   "pygments_lexer": "ipython3",
   "version": "3.6.3"
  },
  "toc": {
   "base_numbering": 1,
   "nav_menu": {},
   "number_sections": true,
   "sideBar": true,
   "skip_h1_title": false,
   "title_cell": "Table of Contents",
   "title_sidebar": "Contents",
   "toc_cell": false,
   "toc_position": {},
   "toc_section_display": true,
   "toc_window_display": false
  }
 },
 "nbformat": 4,
 "nbformat_minor": 2
}
